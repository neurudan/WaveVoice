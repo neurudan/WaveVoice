{
 "nbformat": 4,
 "nbformat_minor": 2,
 "metadata": {
  "language_info": {
   "name": "python",
   "codemirror_mode": {
    "name": "ipython",
    "version": 3
   }
  },
  "orig_nbformat": 2,
  "file_extension": ".py",
  "mimetype": "text/x-python",
  "name": "python",
  "npconvert_exporter": "python",
  "pygments_lexer": "ipython3",
  "version": 3
 },
 "cells": [
  {
   "cell_type": "code",
   "execution_count": 7,
   "metadata": {},
   "outputs": [],
   "source": [
    "import h5py\n",
    "import os\n",
    "\n",
    "path = '/media/bratwolf/DATA/VT2/DeepVoice/WaveVoice/dataset/timit/timit_original.h5'\n",
    "dest = '/media/bratwolf/DATA/VT2/DeepVoice/WaveVoice/dataset/timit/speaker_lists/timit_speakers_630_all.txt'\n",
    "\n",
    "keys = None\n",
    "with h5py.File(path, 'r') as data:\n",
    "    keys = list(data['data'].keys())\n",
    "\n",
    "with open(dest, 'w') as data:\n",
    "    for k in keys:\n",
    "        data.write(k + '\\n')"
   ]
  }
 ]
}