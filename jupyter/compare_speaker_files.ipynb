{
 "nbformat": 4,
 "nbformat_minor": 2,
 "metadata": {
  "language_info": {
   "name": "python",
   "codemirror_mode": {
    "name": "ipython",
    "version": 3
   }
  },
  "orig_nbformat": 2,
  "file_extension": ".py",
  "mimetype": "text/x-python",
  "name": "python",
  "npconvert_exporter": "python",
  "pygments_lexer": "ipython3",
  "version": 3
 },
 "cells": [
  {
   "cell_type": "code",
   "execution_count": 2,
   "metadata": {},
   "outputs": [],
   "source": [
    "import scipy\n",
    "import librosa\n",
    "import numpy as np\n",
    "\n",
    "def ulaw(x, bits=8):\n",
    "    u = np.iinfo('uint'+str(bits)).max\n",
    "    x = np.sign(x) * (np.log(1 + u * np.abs(x)) / np.log(1 + u))\n",
    "    return x\n",
    "\n",
    "path = '/media/bratwolf/DATA/'\n",
    "s = path + 'SA1.WAV'\n",
    "\n",
    "y, fs = librosa.core.load(s)\n",
    "y = y.astype(np.float16)\n",
    "y = y.astype(np.float32)\n",
    "\n",
    "scipy.io.wavfile.write(path + 'out.wav', fs, y)\n"
   ]
  },
  {
   "cell_type": "code",
   "execution_count": 8,
   "metadata": {},
   "outputs": [
    {
     "data": {
      "text/plain": "65535"
     },
     "execution_count": 8,
     "metadata": {},
     "output_type": "execute_result"
    }
   ],
   "source": [
    "np.iinfo('uint16').max"
   ]
  },
  {
   "cell_type": "code",
   "execution_count": null,
   "metadata": {},
   "outputs": [],
   "source": []
  }
 ]
}